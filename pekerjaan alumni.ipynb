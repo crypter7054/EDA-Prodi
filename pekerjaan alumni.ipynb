{
 "cells": [
  {
   "cell_type": "code",
   "execution_count": 108,
   "id": "2fe76f0b",
   "metadata": {},
   "outputs": [],
   "source": [
    "%matplotlib inline\n",
    "import numpy as np                  \n",
    "import pandas as pd                 \n",
    "import matplotlib.pyplot as plt     \n",
    "import seaborn as sns\n",
    "from matplotlib import rc\n",
    "from datetime import datetime, date\n",
    "import textwrap"
   ]
  },
  {
   "cell_type": "code",
   "execution_count": 109,
   "id": "bff08e9e",
   "metadata": {},
   "outputs": [
    {
     "data": {
      "text/html": [
       "<div>\n",
       "<style scoped>\n",
       "    .dataframe tbody tr th:only-of-type {\n",
       "        vertical-align: middle;\n",
       "    }\n",
       "\n",
       "    .dataframe tbody tr th {\n",
       "        vertical-align: top;\n",
       "    }\n",
       "\n",
       "    .dataframe thead th {\n",
       "        text-align: right;\n",
       "    }\n",
       "</style>\n",
       "<table border=\"1\" class=\"dataframe\">\n",
       "  <thead>\n",
       "    <tr style=\"text-align: right;\">\n",
       "      <th></th>\n",
       "      <th>NIM</th>\n",
       "      <th>Nama</th>\n",
       "      <th>Jenis Kelamin</th>\n",
       "      <th>TTL</th>\n",
       "      <th>Program Studi</th>\n",
       "      <th>Status Pekerjaan</th>\n",
       "      <th>Lama Mendapat Pekerjaan</th>\n",
       "      <th>Kesesuaian Pekerjaan</th>\n",
       "      <th>Gaji</th>\n",
       "    </tr>\n",
       "  </thead>\n",
       "  <tbody>\n",
       "    <tr>\n",
       "      <th>0</th>\n",
       "      <td>60320</td>\n",
       "      <td>Irfan Taufik</td>\n",
       "      <td>Laki-Laki</td>\n",
       "      <td>5/15/1988</td>\n",
       "      <td>Ilmu Komputer</td>\n",
       "      <td>PNS</td>\n",
       "      <td>4.0</td>\n",
       "      <td>Tidak relevan</td>\n",
       "      <td>5000000.0</td>\n",
       "    </tr>\n",
       "    <tr>\n",
       "      <th>1</th>\n",
       "      <td>1200678</td>\n",
       "      <td>Dendi Handian</td>\n",
       "      <td>Laki-Laki</td>\n",
       "      <td>5/4/1994</td>\n",
       "      <td>Ilmu Komputer</td>\n",
       "      <td>Kontrak</td>\n",
       "      <td>19.0</td>\n",
       "      <td>Relevan</td>\n",
       "      <td>4500000.0</td>\n",
       "    </tr>\n",
       "    <tr>\n",
       "      <th>2</th>\n",
       "      <td>56665</td>\n",
       "      <td>Lusi luzaenah</td>\n",
       "      <td>Perempuan</td>\n",
       "      <td>9/12/1986</td>\n",
       "      <td>Ilmu Komputer</td>\n",
       "      <td>Honorer</td>\n",
       "      <td>2.0</td>\n",
       "      <td>Sangat relevan</td>\n",
       "      <td>2500000.0</td>\n",
       "    </tr>\n",
       "    <tr>\n",
       "      <th>3</th>\n",
       "      <td>1203524</td>\n",
       "      <td>Siswo Handoko</td>\n",
       "      <td>Laki-Laki</td>\n",
       "      <td>1/20/1994</td>\n",
       "      <td>Ilmu Komputer</td>\n",
       "      <td>Tetap</td>\n",
       "      <td>2.0</td>\n",
       "      <td>Kurang relevan</td>\n",
       "      <td>6000000.0</td>\n",
       "    </tr>\n",
       "    <tr>\n",
       "      <th>4</th>\n",
       "      <td>907018</td>\n",
       "      <td>Andiyangita Widiagani</td>\n",
       "      <td>Laki-Laki</td>\n",
       "      <td>7/29/1992</td>\n",
       "      <td>Ilmu Komputer</td>\n",
       "      <td>Belum bekerja</td>\n",
       "      <td>NaN</td>\n",
       "      <td>NaN</td>\n",
       "      <td>NaN</td>\n",
       "    </tr>\n",
       "  </tbody>\n",
       "</table>\n",
       "</div>"
      ],
      "text/plain": [
       "       NIM                   Nama Jenis Kelamin        TTL  Program Studi  \\\n",
       "0    60320           Irfan Taufik     Laki-Laki  5/15/1988  Ilmu Komputer   \n",
       "1  1200678          Dendi Handian     Laki-Laki   5/4/1994  Ilmu Komputer   \n",
       "2    56665          Lusi luzaenah     Perempuan  9/12/1986  Ilmu Komputer   \n",
       "3  1203524          Siswo Handoko     Laki-Laki  1/20/1994  Ilmu Komputer   \n",
       "4   907018  Andiyangita Widiagani     Laki-Laki  7/29/1992  Ilmu Komputer   \n",
       "\n",
       "  Status Pekerjaan  Lama Mendapat Pekerjaan Kesesuaian Pekerjaan       Gaji  \n",
       "0              PNS                      4.0        Tidak relevan  5000000.0  \n",
       "1          Kontrak                     19.0              Relevan  4500000.0  \n",
       "2          Honorer                      2.0       Sangat relevan  2500000.0  \n",
       "3            Tetap                      2.0       Kurang relevan  6000000.0  \n",
       "4    Belum bekerja                      NaN                  NaN        NaN  "
      ]
     },
     "execution_count": 109,
     "metadata": {},
     "output_type": "execute_result"
    }
   ],
   "source": [
    "df3 = pd.read_csv(\"D:/kuliah/SEMESTER 5/DATA ANALYS/pekerjaan_alumni.csv\")\n",
    "df3.head(5)"
   ]
  },
  {
   "cell_type": "code",
   "execution_count": 110,
   "id": "5f317fbf",
   "metadata": {
    "scrolled": true
   },
   "outputs": [
    {
     "name": "stdout",
     "output_type": "stream",
     "text": [
      "<class 'pandas.core.frame.DataFrame'>\n",
      "RangeIndex: 500 entries, 0 to 499\n",
      "Data columns (total 9 columns):\n",
      " #   Column                   Non-Null Count  Dtype  \n",
      "---  ------                   --------------  -----  \n",
      " 0   NIM                      500 non-null    int64  \n",
      " 1   Nama                     500 non-null    object \n",
      " 2   Jenis Kelamin            500 non-null    object \n",
      " 3   TTL                      500 non-null    object \n",
      " 4   Program Studi            500 non-null    object \n",
      " 5   Status Pekerjaan         500 non-null    object \n",
      " 6   Lama Mendapat Pekerjaan  400 non-null    float64\n",
      " 7   Kesesuaian Pekerjaan     400 non-null    object \n",
      " 8   Gaji                     401 non-null    float64\n",
      "dtypes: float64(2), int64(1), object(6)\n",
      "memory usage: 35.3+ KB\n"
     ]
    }
   ],
   "source": [
    "df3.info()"
   ]
  },
  {
   "cell_type": "code",
   "execution_count": 111,
   "id": "6a1344dd",
   "metadata": {},
   "outputs": [
    {
     "data": {
      "text/html": [
       "<div>\n",
       "<style scoped>\n",
       "    .dataframe tbody tr th:only-of-type {\n",
       "        vertical-align: middle;\n",
       "    }\n",
       "\n",
       "    .dataframe tbody tr th {\n",
       "        vertical-align: top;\n",
       "    }\n",
       "\n",
       "    .dataframe thead th {\n",
       "        text-align: right;\n",
       "    }\n",
       "</style>\n",
       "<table border=\"1\" class=\"dataframe\">\n",
       "  <thead>\n",
       "    <tr style=\"text-align: right;\">\n",
       "      <th></th>\n",
       "      <th>NIM</th>\n",
       "      <th>Nama</th>\n",
       "      <th>Jenis Kelamin</th>\n",
       "      <th>TTL</th>\n",
       "      <th>Program Studi</th>\n",
       "      <th>Status Pekerjaan</th>\n",
       "      <th>Lama Mendapat Pekerjaan</th>\n",
       "      <th>Kesesuaian Pekerjaan</th>\n",
       "      <th>Gaji</th>\n",
       "    </tr>\n",
       "  </thead>\n",
       "  <tbody>\n",
       "    <tr>\n",
       "      <th>242</th>\n",
       "      <td>1102600</td>\n",
       "      <td>Carwyn Peters</td>\n",
       "      <td>Laki-Laki</td>\n",
       "      <td>22/07/1993</td>\n",
       "      <td>Pendidikan Ilmu Komputer</td>\n",
       "      <td>Belum bekerja</td>\n",
       "      <td>NaN</td>\n",
       "      <td>NaN</td>\n",
       "      <td>1500000.0</td>\n",
       "    </tr>\n",
       "  </tbody>\n",
       "</table>\n",
       "</div>"
      ],
      "text/plain": [
       "         NIM           Nama Jenis Kelamin         TTL  \\\n",
       "242  1102600  Carwyn Peters     Laki-Laki  22/07/1993   \n",
       "\n",
       "                Program Studi Status Pekerjaan  Lama Mendapat Pekerjaan  \\\n",
       "242  Pendidikan Ilmu Komputer    Belum bekerja                      NaN   \n",
       "\n",
       "    Kesesuaian Pekerjaan       Gaji  \n",
       "242                  NaN  1500000.0  "
      ]
     },
     "execution_count": 111,
     "metadata": {},
     "output_type": "execute_result"
    }
   ],
   "source": [
    "df3[(df3['Status Pekerjaan']=='Belum bekerja') & (df3['Gaji']>0)]"
   ]
  },
  {
   "cell_type": "code",
   "execution_count": 112,
   "id": "11f83c02",
   "metadata": {},
   "outputs": [],
   "source": [
    "df3.loc[(df3['Status Pekerjaan']=='Belum bekerja') & (df3['Gaji']>0), 'Gaji'] = np.nan"
   ]
  },
  {
   "cell_type": "code",
   "execution_count": 113,
   "id": "a5268e6a",
   "metadata": {},
   "outputs": [
    {
     "data": {
      "text/html": [
       "<div>\n",
       "<style scoped>\n",
       "    .dataframe tbody tr th:only-of-type {\n",
       "        vertical-align: middle;\n",
       "    }\n",
       "\n",
       "    .dataframe tbody tr th {\n",
       "        vertical-align: top;\n",
       "    }\n",
       "\n",
       "    .dataframe thead th {\n",
       "        text-align: right;\n",
       "    }\n",
       "</style>\n",
       "<table border=\"1\" class=\"dataframe\">\n",
       "  <thead>\n",
       "    <tr style=\"text-align: right;\">\n",
       "      <th></th>\n",
       "      <th>NIM</th>\n",
       "      <th>Nama</th>\n",
       "      <th>Jenis Kelamin</th>\n",
       "      <th>TTL</th>\n",
       "      <th>Program Studi</th>\n",
       "      <th>Status Pekerjaan</th>\n",
       "      <th>Lama Mendapat Pekerjaan</th>\n",
       "      <th>Kesesuaian Pekerjaan</th>\n",
       "      <th>Gaji</th>\n",
       "    </tr>\n",
       "  </thead>\n",
       "  <tbody>\n",
       "  </tbody>\n",
       "</table>\n",
       "</div>"
      ],
      "text/plain": [
       "Empty DataFrame\n",
       "Columns: [NIM, Nama, Jenis Kelamin, TTL, Program Studi, Status Pekerjaan, Lama Mendapat Pekerjaan, Kesesuaian Pekerjaan, Gaji]\n",
       "Index: []"
      ]
     },
     "execution_count": 113,
     "metadata": {},
     "output_type": "execute_result"
    }
   ],
   "source": [
    "df3[(df3['Status Pekerjaan']=='Belum bekerja') & (df3['Gaji']>0)]"
   ]
  },
  {
   "cell_type": "code",
   "execution_count": 115,
   "id": "bfe6d55c",
   "metadata": {},
   "outputs": [
    {
     "data": {
      "text/plain": [
       "NIM                          0\n",
       "Nama                         0\n",
       "Jenis Kelamin                0\n",
       "TTL                          0\n",
       "Program Studi                0\n",
       "Status Pekerjaan             0\n",
       "Lama Mendapat Pekerjaan    100\n",
       "Kesesuaian Pekerjaan       100\n",
       "Gaji                       100\n",
       "dtype: int64"
      ]
     },
     "execution_count": 115,
     "metadata": {},
     "output_type": "execute_result"
    }
   ],
   "source": [
    "df3.isnull().sum()"
   ]
  },
  {
   "cell_type": "code",
   "execution_count": 116,
   "id": "abb35d16",
   "metadata": {},
   "outputs": [
    {
     "data": {
      "text/html": [
       "<div>\n",
       "<style scoped>\n",
       "    .dataframe tbody tr th:only-of-type {\n",
       "        vertical-align: middle;\n",
       "    }\n",
       "\n",
       "    .dataframe tbody tr th {\n",
       "        vertical-align: top;\n",
       "    }\n",
       "\n",
       "    .dataframe thead th {\n",
       "        text-align: right;\n",
       "    }\n",
       "</style>\n",
       "<table border=\"1\" class=\"dataframe\">\n",
       "  <thead>\n",
       "    <tr style=\"text-align: right;\">\n",
       "      <th></th>\n",
       "      <th>NIM</th>\n",
       "      <th>Nama</th>\n",
       "      <th>Jenis Kelamin</th>\n",
       "      <th>TTL</th>\n",
       "      <th>Program Studi</th>\n",
       "      <th>Status Pekerjaan</th>\n",
       "      <th>Lama Mendapat Pekerjaan</th>\n",
       "      <th>Kesesuaian Pekerjaan</th>\n",
       "      <th>Gaji</th>\n",
       "    </tr>\n",
       "  </thead>\n",
       "  <tbody>\n",
       "  </tbody>\n",
       "</table>\n",
       "</div>"
      ],
      "text/plain": [
       "Empty DataFrame\n",
       "Columns: [NIM, Nama, Jenis Kelamin, TTL, Program Studi, Status Pekerjaan, Lama Mendapat Pekerjaan, Kesesuaian Pekerjaan, Gaji]\n",
       "Index: []"
      ]
     },
     "execution_count": 116,
     "metadata": {},
     "output_type": "execute_result"
    }
   ],
   "source": [
    "duplikasi = df3[df3.duplicated(\"NIM\")]\n",
    "duplikasi"
   ]
  },
  {
   "cell_type": "markdown",
   "id": "e5dfa0e3",
   "metadata": {},
   "source": [
    "#### Exploratory Data Analysis (EDA)"
   ]
  },
  {
   "cell_type": "code",
   "execution_count": 117,
   "id": "4fbac9a8",
   "metadata": {
    "scrolled": false
   },
   "outputs": [
    {
     "data": {
      "text/html": [
       "<div>\n",
       "<style scoped>\n",
       "    .dataframe tbody tr th:only-of-type {\n",
       "        vertical-align: middle;\n",
       "    }\n",
       "\n",
       "    .dataframe tbody tr th {\n",
       "        vertical-align: top;\n",
       "    }\n",
       "\n",
       "    .dataframe thead th {\n",
       "        text-align: right;\n",
       "    }\n",
       "</style>\n",
       "<table border=\"1\" class=\"dataframe\">\n",
       "  <thead>\n",
       "    <tr style=\"text-align: right;\">\n",
       "      <th></th>\n",
       "      <th>NIM</th>\n",
       "      <th>Nama</th>\n",
       "      <th>Jenis Kelamin</th>\n",
       "      <th>TTL</th>\n",
       "      <th>Program Studi</th>\n",
       "      <th>Status Pekerjaan</th>\n",
       "      <th>Lama Mendapat Pekerjaan</th>\n",
       "      <th>Kesesuaian Pekerjaan</th>\n",
       "      <th>Gaji</th>\n",
       "    </tr>\n",
       "  </thead>\n",
       "  <tbody>\n",
       "    <tr>\n",
       "      <th>count</th>\n",
       "      <td>5.000000e+02</td>\n",
       "      <td>500</td>\n",
       "      <td>500</td>\n",
       "      <td>500</td>\n",
       "      <td>500</td>\n",
       "      <td>500</td>\n",
       "      <td>400.000000</td>\n",
       "      <td>400</td>\n",
       "      <td>4.000000e+02</td>\n",
       "    </tr>\n",
       "    <tr>\n",
       "      <th>unique</th>\n",
       "      <td>NaN</td>\n",
       "      <td>500</td>\n",
       "      <td>2</td>\n",
       "      <td>467</td>\n",
       "      <td>2</td>\n",
       "      <td>5</td>\n",
       "      <td>NaN</td>\n",
       "      <td>4</td>\n",
       "      <td>NaN</td>\n",
       "    </tr>\n",
       "    <tr>\n",
       "      <th>top</th>\n",
       "      <td>NaN</td>\n",
       "      <td>Griff Harrell</td>\n",
       "      <td>Laki-Laki</td>\n",
       "      <td>13/04/1987</td>\n",
       "      <td>Ilmu Komputer</td>\n",
       "      <td>PNS</td>\n",
       "      <td>NaN</td>\n",
       "      <td>Relevan</td>\n",
       "      <td>NaN</td>\n",
       "    </tr>\n",
       "    <tr>\n",
       "      <th>freq</th>\n",
       "      <td>NaN</td>\n",
       "      <td>1</td>\n",
       "      <td>279</td>\n",
       "      <td>2</td>\n",
       "      <td>273</td>\n",
       "      <td>111</td>\n",
       "      <td>NaN</td>\n",
       "      <td>112</td>\n",
       "      <td>NaN</td>\n",
       "    </tr>\n",
       "    <tr>\n",
       "      <th>mean</th>\n",
       "      <td>7.810690e+05</td>\n",
       "      <td>NaN</td>\n",
       "      <td>NaN</td>\n",
       "      <td>NaN</td>\n",
       "      <td>NaN</td>\n",
       "      <td>NaN</td>\n",
       "      <td>12.502500</td>\n",
       "      <td>NaN</td>\n",
       "      <td>4.165000e+06</td>\n",
       "    </tr>\n",
       "    <tr>\n",
       "      <th>std</th>\n",
       "      <td>4.149812e+05</td>\n",
       "      <td>NaN</td>\n",
       "      <td>NaN</td>\n",
       "      <td>NaN</td>\n",
       "      <td>NaN</td>\n",
       "      <td>NaN</td>\n",
       "      <td>7.108186</td>\n",
       "      <td>NaN</td>\n",
       "      <td>1.868892e+06</td>\n",
       "    </tr>\n",
       "    <tr>\n",
       "      <th>min</th>\n",
       "      <td>5.133900e+04</td>\n",
       "      <td>NaN</td>\n",
       "      <td>NaN</td>\n",
       "      <td>NaN</td>\n",
       "      <td>NaN</td>\n",
       "      <td>NaN</td>\n",
       "      <td>0.000000</td>\n",
       "      <td>NaN</td>\n",
       "      <td>1.000000e+06</td>\n",
       "    </tr>\n",
       "    <tr>\n",
       "      <th>25%</th>\n",
       "      <td>4.558738e+05</td>\n",
       "      <td>NaN</td>\n",
       "      <td>NaN</td>\n",
       "      <td>NaN</td>\n",
       "      <td>NaN</td>\n",
       "      <td>NaN</td>\n",
       "      <td>7.000000</td>\n",
       "      <td>NaN</td>\n",
       "      <td>2.500000e+06</td>\n",
       "    </tr>\n",
       "    <tr>\n",
       "      <th>50%</th>\n",
       "      <td>7.507275e+05</td>\n",
       "      <td>NaN</td>\n",
       "      <td>NaN</td>\n",
       "      <td>NaN</td>\n",
       "      <td>NaN</td>\n",
       "      <td>NaN</td>\n",
       "      <td>13.000000</td>\n",
       "      <td>NaN</td>\n",
       "      <td>4.500000e+06</td>\n",
       "    </tr>\n",
       "    <tr>\n",
       "      <th>75%</th>\n",
       "      <td>1.137108e+06</td>\n",
       "      <td>NaN</td>\n",
       "      <td>NaN</td>\n",
       "      <td>NaN</td>\n",
       "      <td>NaN</td>\n",
       "      <td>NaN</td>\n",
       "      <td>19.000000</td>\n",
       "      <td>NaN</td>\n",
       "      <td>6.000000e+06</td>\n",
       "    </tr>\n",
       "    <tr>\n",
       "      <th>max</th>\n",
       "      <td>1.497578e+06</td>\n",
       "      <td>NaN</td>\n",
       "      <td>NaN</td>\n",
       "      <td>NaN</td>\n",
       "      <td>NaN</td>\n",
       "      <td>NaN</td>\n",
       "      <td>24.000000</td>\n",
       "      <td>NaN</td>\n",
       "      <td>7.000000e+06</td>\n",
       "    </tr>\n",
       "  </tbody>\n",
       "</table>\n",
       "</div>"
      ],
      "text/plain": [
       "                 NIM           Nama Jenis Kelamin         TTL  Program Studi  \\\n",
       "count   5.000000e+02            500           500         500            500   \n",
       "unique           NaN            500             2         467              2   \n",
       "top              NaN  Griff Harrell     Laki-Laki  13/04/1987  Ilmu Komputer   \n",
       "freq             NaN              1           279           2            273   \n",
       "mean    7.810690e+05            NaN           NaN         NaN            NaN   \n",
       "std     4.149812e+05            NaN           NaN         NaN            NaN   \n",
       "min     5.133900e+04            NaN           NaN         NaN            NaN   \n",
       "25%     4.558738e+05            NaN           NaN         NaN            NaN   \n",
       "50%     7.507275e+05            NaN           NaN         NaN            NaN   \n",
       "75%     1.137108e+06            NaN           NaN         NaN            NaN   \n",
       "max     1.497578e+06            NaN           NaN         NaN            NaN   \n",
       "\n",
       "       Status Pekerjaan  Lama Mendapat Pekerjaan Kesesuaian Pekerjaan  \\\n",
       "count               500               400.000000                  400   \n",
       "unique                5                      NaN                    4   \n",
       "top                 PNS                      NaN              Relevan   \n",
       "freq                111                      NaN                  112   \n",
       "mean                NaN                12.502500                  NaN   \n",
       "std                 NaN                 7.108186                  NaN   \n",
       "min                 NaN                 0.000000                  NaN   \n",
       "25%                 NaN                 7.000000                  NaN   \n",
       "50%                 NaN                13.000000                  NaN   \n",
       "75%                 NaN                19.000000                  NaN   \n",
       "max                 NaN                24.000000                  NaN   \n",
       "\n",
       "                Gaji  \n",
       "count   4.000000e+02  \n",
       "unique           NaN  \n",
       "top              NaN  \n",
       "freq             NaN  \n",
       "mean    4.165000e+06  \n",
       "std     1.868892e+06  \n",
       "min     1.000000e+06  \n",
       "25%     2.500000e+06  \n",
       "50%     4.500000e+06  \n",
       "75%     6.000000e+06  \n",
       "max     7.000000e+06  "
      ]
     },
     "execution_count": 117,
     "metadata": {},
     "output_type": "execute_result"
    }
   ],
   "source": [
    "df3.describe(include=\"all\")"
   ]
  },
  {
   "cell_type": "code",
   "execution_count": 123,
   "id": "edc68e0a",
   "metadata": {},
   "outputs": [],
   "source": [
    "df3.rename(columns = {'Status Pekerjaan':'Status_Pekerjaan', 'Kesesuaian Pekerjaan':'Kesesuaian_Pekerjaan'}, inplace = True)"
   ]
  },
  {
   "cell_type": "markdown",
   "id": "08ebe58a",
   "metadata": {},
   "source": [
    "### Jumlah Alumni berdasarkan Status Pekerjaan"
   ]
  },
  {
   "cell_type": "code",
   "execution_count": 149,
   "id": "3d0322c5",
   "metadata": {
    "scrolled": false
   },
   "outputs": [
    {
     "data": {
      "image/png": "[encoded data removed]",
      "text/plain": [
       "<Figure size 720x360 with 1 Axes>"
      ]
     },
     "metadata": {
      "needs_background": "light"
     },
     "output_type": "display_data"
    }
   ],
   "source": [
    "plt.figure(figsize=(10, 5))\n",
    "fig = sns.countplot(x=\"status_Pekerjaan\", data=df3, order = df3['status_Pekerjaan'].value_counts().index, palette=\"deep\")\n",
    "plt.title(\"Jumlah Alumni berdasarkan Status Pekerjaan\")\n",
    "plt.show(fig)"
   ]
  },
  {
   "cell_type": "markdown",
   "id": "ec6787ef",
   "metadata": {},
   "source": [
    "Dari Data diatas, kita dapat dengan mudah melihat bahwa status pekerjaan PNS yang paling mendominasi dari jumlah keseluruhan alumni. Kemudian diikuti dengan status pekerjaan honorer, belum bekerja, kontrak dan tetap."
   ]
  },
  {
   "cell_type": "markdown",
   "id": "0e2a7cd6",
   "metadata": {},
   "source": [
    "### Jumlah Status Pekerjaan Alumni Berdasarkan Program Studi"
   ]
  },
  {
   "cell_type": "code",
   "execution_count": 151,
   "id": "464477a1",
   "metadata": {
    "scrolled": true
   },
   "outputs": [
    {
     "data": {
      "image/png": "[encoded data removed]",
      "text/plain": [
       "<Figure size 1036.8x576 with 5 Axes>"
      ]
     },
     "metadata": {
      "needs_background": "light"
     },
     "output_type": "display_data"
    }
   ],
   "source": [
    "g = sns.catplot(x=\"Program Studi\", col=\"status_Pekerjaan\", col_wrap=4,\n",
    "                data=df3[df3.status_Pekerjaan.notnull()],\n",
    "                kind=\"count\", height=4, aspect=.9)"
   ]
  },
  {
   "cell_type": "markdown",
   "id": "3cb8c17d",
   "metadata": {},
   "source": [
    "Dari data diatas, dapat dilihat bahwa alumni yang berstatus pekerjaan PNS meniliki jumlah alumni yang hampir seimbang berdasarkan program studinya. Berbeda dengan orang yang berstatus pekerjaan tetap dan kontrak yang memiliki selisih cukup jauh untuk jumlah alumni pada masing masing program studinya."
   ]
  },
  {
   "cell_type": "markdown",
   "id": "da7f0a67",
   "metadata": {},
   "source": [
    "### Jumlah Alumni berdasarkan Kesesuaian Pekerjaan"
   ]
  },
  {
   "cell_type": "code",
   "execution_count": 156,
   "id": "c7082816",
   "metadata": {},
   "outputs": [
    {
     "data": {
      "image/png": "[encoded data removed]",
      "text/plain": [
       "<Figure size 720x360 with 1 Axes>"
      ]
     },
     "metadata": {
      "needs_background": "light"
     },
     "output_type": "display_data"
    }
   ],
   "source": [
    "plt.figure(figsize=(10, 5))\n",
    "fig = sns.countplot(x=\"Kesesuaian_Pekerjaan\", data=df3, order = df3['Kesesuaian_Pekerjaan'].value_counts().index, palette=\"deep\")\n",
    "plt.title(\"Jumlah Alumni Berdasarkan Kesesuaian Pekerjaan\")\n",
    "plt.show(fig)"
   ]
  },
  {
   "cell_type": "markdown",
   "id": "612e12cf",
   "metadata": {},
   "source": [
    "Dari data diatas, menunjukan bahwa kebanyakan alumni memiliki pekerjaan yang relevan atau sesuai dengan program studinya. "
   ]
  },
  {
   "cell_type": "markdown",
   "id": "fc7e7f4b",
   "metadata": {},
   "source": [
    "### Jumlah Kesesuaian Pekerjaan Alumni Berdasarkan Program Studi"
   ]
  },
  {
   "cell_type": "code",
   "execution_count": 153,
   "id": "899f8c09",
   "metadata": {
    "scrolled": true
   },
   "outputs": [
    {
     "data": {
      "image/png": "[encoded data removed]",
      "text/plain": [
       "<Figure size 1036.8x288 with 4 Axes>"
      ]
     },
     "metadata": {
      "needs_background": "light"
     },
     "output_type": "display_data"
    }
   ],
   "source": [
    "g = sns.catplot(x=\"Program Studi\", col=\"Kesesuaian_Pekerjaan\", col_wrap=4,\n",
    "                data=df3[df3.status_Pekerjaan.notnull()],\n",
    "                kind=\"count\", height=4, aspect=.9)"
   ]
  },
  {
   "cell_type": "markdown",
   "id": "36a47189",
   "metadata": {},
   "source": [
    "Dari data diatas menunjukan bahwa jumlah alumni berdasarkan program studi yang pekerjaanya relevan memiliki jumlah yang sama atau seimbang"
   ]
  },
  {
   "cell_type": "markdown",
   "id": "2ecad385",
   "metadata": {},
   "source": [
    "### Distribusi Gaji Alumni dan Lama Mendapat Pekerjaan Berdasarkan Status Pekerjaan"
   ]
  },
  {
   "cell_type": "code",
   "execution_count": 148,
   "id": "a2bb8e61",
   "metadata": {
    "scrolled": true
   },
   "outputs": [
    {
     "data": {
      "text/plain": [
       "Text(0.5, 1.0, 'Distribusi Gaji Alumni Berdasarkan Status Pekerjaan')"
      ]
     },
     "execution_count": 148,
     "metadata": {},
     "output_type": "execute_result"
    },
    {
     "data": {
      "image/png": "[encoded data removed]",
      "text/plain": [
       "<Figure size 720x576 with 1 Axes>"
      ]
     },
     "metadata": {
      "needs_background": "light"
     },
     "output_type": "display_data"
    }
   ],
   "source": [
    "plt.figure(figsize=(10, 8))\n",
    "\n",
    "df3_Gaji_ls = df3.groupby('status_Pekerjaan')[\"Gaji\"].mean().reset_index()\n",
    "df3_Gaji_ls = df3_Gaji_ls.sort_values(by=\"Gaji\", ascending=False)\n",
    "\n",
    "sns.boxplot(data=df3, palette=\"deep\", y=\"Gaji\", x=\"status_Pekerjaan\")\n",
    "plt.title(\"Distribusi Gaji Alumni Berdasarkan Status Pekerjaan\")"
   ]
  },
  {
   "cell_type": "code",
   "execution_count": 146,
   "id": "c26a46e9",
   "metadata": {},
   "outputs": [
    {
     "data": {
      "text/plain": [
       "Text(0.5, 1.0, 'Distribusi Lama Mendapat Pekerjaan Alumni Berdasarkan Status Pekerjaan')"
      ]
     },
     "execution_count": 146,
     "metadata": {},
     "output_type": "execute_result"
    },
    {
     "data": {
      "image/png": "[encoded data removed]",
      "text/plain": [
       "<Figure size 720x576 with 1 Axes>"
      ]
     },
     "metadata": {
      "needs_background": "light"
     },
     "output_type": "display_data"
    }
   ],
   "source": [
    "plt.figure(figsize=(10, 8))\n",
    "\n",
    "df3_Gaji_ls = df3.groupby('status_Pekerjaan')[\"Lama Mendapat Pekerjaan\"].mean().reset_index()\n",
    "df3_Gaji_ls = df3_Gaji_ls.sort_values(by=\"Lama Mendapat Pekerjaan\", ascending=False)\n",
    "\n",
    "sns.boxplot(data=df3, palette=\"deep\", y=\"Lama Mendapat Pekerjaan\", x=\"status_Pekerjaan\")\n",
    "plt.title(\"Distribusi Lama Mendapat Pekerjaan Alumni Berdasarkan Status Pekerjaan\")"
   ]
  },
  {
   "cell_type": "markdown",
   "id": "bf3ff3f7",
   "metadata": {},
   "source": [
    "Data di atas menunjukkan distribusi gaji berdasarkan status pekerjaan dan distribusi lama mendapat pekerjaan berdasarkan status pekerjaan. Dapat ketahui bahwa alumni dengan status pekerjaan kontrak memiliki rata-rata gaji yang lebih tinggi dibanding status pekerjaan lainnya. Namun, memiliki rata-rata waktu menganggur paling lama dibandingkan status pekerjaan lainnya."
   ]
  },
  {
   "cell_type": "code",
   "execution_count": 140,
   "id": "15fd981f",
   "metadata": {},
   "outputs": [],
   "source": [
    "df3_group_one = df3[['status_Pekerjaan', 'Gaji']]"
   ]
  },
  {
   "cell_type": "code",
   "execution_count": 141,
   "id": "dbfcc00d",
   "metadata": {
    "scrolled": true
   },
   "outputs": [
    {
     "data": {
      "text/html": [
       "<div>\n",
       "<style scoped>\n",
       "    .dataframe tbody tr th:only-of-type {\n",
       "        vertical-align: middle;\n",
       "    }\n",
       "\n",
       "    .dataframe tbody tr th {\n",
       "        vertical-align: top;\n",
       "    }\n",
       "\n",
       "    .dataframe thead th {\n",
       "        text-align: right;\n",
       "    }\n",
       "</style>\n",
       "<table border=\"1\" class=\"dataframe\">\n",
       "  <thead>\n",
       "    <tr style=\"text-align: right;\">\n",
       "      <th></th>\n",
       "      <th>status_Pekerjaan</th>\n",
       "      <th>Gaji</th>\n",
       "    </tr>\n",
       "  </thead>\n",
       "  <tbody>\n",
       "    <tr>\n",
       "      <th>0</th>\n",
       "      <td>Belum bekerja</td>\n",
       "      <td>NaN</td>\n",
       "    </tr>\n",
       "    <tr>\n",
       "      <th>1</th>\n",
       "      <td>Honorer</td>\n",
       "      <td>4.155340e+06</td>\n",
       "    </tr>\n",
       "    <tr>\n",
       "      <th>2</th>\n",
       "      <td>Kontrak</td>\n",
       "      <td>4.362245e+06</td>\n",
       "    </tr>\n",
       "    <tr>\n",
       "      <th>3</th>\n",
       "      <td>PNS</td>\n",
       "      <td>3.936937e+06</td>\n",
       "    </tr>\n",
       "    <tr>\n",
       "      <th>4</th>\n",
       "      <td>Tetap</td>\n",
       "      <td>4.244318e+06</td>\n",
       "    </tr>\n",
       "  </tbody>\n",
       "</table>\n",
       "</div>"
      ],
      "text/plain": [
       "  status_Pekerjaan          Gaji\n",
       "0    Belum bekerja           NaN\n",
       "1          Honorer  4.155340e+06\n",
       "2          Kontrak  4.362245e+06\n",
       "3              PNS  3.936937e+06\n",
       "4            Tetap  4.244318e+06"
      ]
     },
     "execution_count": 141,
     "metadata": {},
     "output_type": "execute_result"
    }
   ],
   "source": [
    "df3_group_one = df3_group_one.groupby(['status_Pekerjaan'],as_index=False).mean()\n",
    "\n",
    "df3_group_one"
   ]
  },
  {
   "cell_type": "markdown",
   "id": "d23a4a7b",
   "metadata": {},
   "source": [
    "Dari data diatas, dapat dilihat bahwa status pekerjaan kontrak memiliki rata-rata gaji lebih tinggi dibanding dengan yang lainnya"
   ]
  },
  {
   "cell_type": "code",
   "execution_count": 143,
   "id": "9d6ec22d",
   "metadata": {},
   "outputs": [],
   "source": [
    "df3_group_two = df3[['status_Pekerjaan', 'Lama Mendapat Pekerjaan']]"
   ]
  },
  {
   "cell_type": "code",
   "execution_count": 144,
   "id": "9523436b",
   "metadata": {
    "scrolled": true
   },
   "outputs": [
    {
     "data": {
      "text/html": [
       "<div>\n",
       "<style scoped>\n",
       "    .dataframe tbody tr th:only-of-type {\n",
       "        vertical-align: middle;\n",
       "    }\n",
       "\n",
       "    .dataframe tbody tr th {\n",
       "        vertical-align: top;\n",
       "    }\n",
       "\n",
       "    .dataframe thead th {\n",
       "        text-align: right;\n",
       "    }\n",
       "</style>\n",
       "<table border=\"1\" class=\"dataframe\">\n",
       "  <thead>\n",
       "    <tr style=\"text-align: right;\">\n",
       "      <th></th>\n",
       "      <th>status_Pekerjaan</th>\n",
       "      <th>Lama Mendapat Pekerjaan</th>\n",
       "    </tr>\n",
       "  </thead>\n",
       "  <tbody>\n",
       "    <tr>\n",
       "      <th>0</th>\n",
       "      <td>Belum bekerja</td>\n",
       "      <td>NaN</td>\n",
       "    </tr>\n",
       "    <tr>\n",
       "      <th>1</th>\n",
       "      <td>Honorer</td>\n",
       "      <td>12.728155</td>\n",
       "    </tr>\n",
       "    <tr>\n",
       "      <th>2</th>\n",
       "      <td>Kontrak</td>\n",
       "      <td>13.857143</td>\n",
       "    </tr>\n",
       "    <tr>\n",
       "      <th>3</th>\n",
       "      <td>PNS</td>\n",
       "      <td>12.117117</td>\n",
       "    </tr>\n",
       "    <tr>\n",
       "      <th>4</th>\n",
       "      <td>Tetap</td>\n",
       "      <td>11.215909</td>\n",
       "    </tr>\n",
       "  </tbody>\n",
       "</table>\n",
       "</div>"
      ],
      "text/plain": [
       "  status_Pekerjaan  Lama Mendapat Pekerjaan\n",
       "0    Belum bekerja                      NaN\n",
       "1          Honorer                12.728155\n",
       "2          Kontrak                13.857143\n",
       "3              PNS                12.117117\n",
       "4            Tetap                11.215909"
      ]
     },
     "execution_count": 144,
     "metadata": {},
     "output_type": "execute_result"
    }
   ],
   "source": [
    "df3_group_two = df3_group_two.groupby(['status_Pekerjaan'],as_index=False).mean()\n",
    "\n",
    "df3_group_two"
   ]
  },
  {
   "cell_type": "markdown",
   "id": "50cb3712",
   "metadata": {},
   "source": [
    "Dari data diatas, dapat dilihat bahwa status pekerjaan kontrak memiliki rata-rata menganggur setelah lulus sekitar 13 bulan"
   ]
  },
  {
   "cell_type": "code",
   "execution_count": null,
   "id": "b7307bb2",
   "metadata": {},
   "outputs": [],
   "source": []
  },
  {
   "cell_type": "code",
   "execution_count": null,
   "id": "febfe703",
   "metadata": {},
   "outputs": [],
   "source": []
  },
  {
   "cell_type": "code",
   "execution_count": null,
   "id": "8ac9dd8f",
   "metadata": {},
   "outputs": [],
   "source": []
  }
 ],
 "metadata": {
  "kernelspec": {
   "display_name": "Python 3",
   "language": "python",
   "name": "python3"
  },
  "language_info": {
   "codemirror_mode": {
    "name": "ipython",
    "version": 3
   },
   "file_extension": ".py",
   "mimetype": "text/x-python",
   "name": "python",
   "nbconvert_exporter": "python",
   "pygments_lexer": "ipython3",
   "version": "3.8.8"
  }
 },
 "nbformat": 4,
 "nbformat_minor": 5
}
